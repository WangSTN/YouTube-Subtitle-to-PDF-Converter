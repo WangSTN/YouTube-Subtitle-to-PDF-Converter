{
  "nbformat": 4,
  "nbformat_minor": 0,
  "metadata": {
    "colab": {
      "provenance": []
    },
    "kernelspec": {
      "name": "python3",
      "display_name": "Python 3"
    },
    "language_info": {
      "name": "python"
    }
  },
  "cells": [
    {
      "cell_type": "code",
      "execution_count": null,
      "metadata": {
        "colab": {
          "base_uri": "https://localhost:8080/"
        },
        "id": "bDlaNMTGfXR2",
        "outputId": "e7e2e73f-0726-4a01-ad86-8a2c0f1dd826"
      },
      "outputs": [
        {
          "output_type": "stream",
          "name": "stdout",
          "text": [
            "Requirement already satisfied: yt_dlp in /usr/local/lib/python3.11/dist-packages (2025.6.30)\n",
            "Requirement already satisfied: fpdf in /usr/local/lib/python3.11/dist-packages (1.7.2)\n"
          ]
        }
      ],
      "source": [
        "#STEP1\n",
        "!pip install yt_dlp\n",
        "!pip install fpdf\n"
      ]
    },
    {
      "cell_type": "code",
      "source": [
        "import yt_dlp\n",
        "import os\n",
        "\n",
        "# 提示用户输入视频链接\n",
        "video_url = input(\"请输入 YouTube 视频链接并且按回车：\")\n",
        "\n",
        "# 创建一个文件夹保存字幕\n",
        "os.makedirs(\"subtitles\", exist_ok=True)\n",
        "\n",
        "# 设置 yt_dlp 参数（只下载英文字幕，不下载视频）\n",
        "ydl_opts = {\n",
        "    'skip_download': True,\n",
        "    'writesubtitles': True,\n",
        "    'writeautomaticsub': True,   # ← 添加这一行\n",
        "    'subtitleslangs': ['en'],\n",
        "    'subtitlesformat': 'srt',\n",
        "    'outtmpl': 'subtitles/%(title)s.%(ext)s'\n",
        "}\n",
        "\n",
        "\n",
        "with yt_dlp.YoutubeDL(ydl_opts) as ydl:\n",
        "    info = ydl.extract_info(video_url, download=True)\n",
        "    video_title = info.get('title')\n",
        "    print(f\"《{video_title}》的字幕已下载。\")\n"
      ],
      "metadata": {
        "colab": {
          "base_uri": "https://localhost:8080/"
        },
        "id": "RC9aYFrifmuR",
        "outputId": "a95ffd25-a8c0-488b-c4ae-5f4f563a76e5"
      },
      "execution_count": null,
      "outputs": [
        {
          "output_type": "stream",
          "name": "stdout",
          "text": [
            "请输入 YouTube 视频链接并且按回车：https://www.youtube.com/watch?v=nCTD_Cf4zV0\n",
            "[youtube] Extracting URL: https://www.youtube.com/watch?v=nCTD_Cf4zV0\n",
            "[youtube] nCTD_Cf4zV0: Downloading webpage\n",
            "[youtube] nCTD_Cf4zV0: Downloading tv client config\n",
            "[youtube] nCTD_Cf4zV0: Downloading tv player API JSON\n",
            "[youtube] nCTD_Cf4zV0: Downloading ios player API JSON\n"
          ]
        }
      ]
    },
    {
      "cell_type": "code",
      "source": [
        "import os\n",
        "\n",
        "# 找到最新下载的字幕\n",
        "srt_file = max(\n",
        "    [os.path.join(\"subtitles\", f) for f in os.listdir(\"subtitles\") if f.endswith(\".srt\")],\n",
        "    key=os.path.getmtime\n",
        ")\n",
        "\n",
        "print(f\"字幕文件路径：{srt_file}\")\n",
        "\n",
        "# 打印前几行内容\n",
        "with open(srt_file, 'r', encoding='utf-8') as f:\n",
        "    lines = f.readlines()\n",
        "    print(''.join(lines[:20]))  # 预览前20行\n"
      ],
      "metadata": {
        "id": "6fhRrxnrb7AV"
      },
      "execution_count": null,
      "outputs": []
    },
    {
      "cell_type": "code",
      "source": [
        "import os\n",
        "\n",
        "# 找到最新的 .srt 文件\n",
        "srt_file = max(\n",
        "    [os.path.join(\"subtitles\", f) for f in os.listdir(\"subtitles\") if f.endswith(\".srt\")],\n",
        "    key=os.path.getmtime\n",
        ")\n",
        "\n",
        "# 读取并清洗字幕内容\n",
        "subtitle_lines = []\n",
        "with open(srt_file, 'r', encoding='utf-8') as f:\n",
        "    lines = f.readlines()\n",
        "    for line in lines:\n",
        "        line = line.strip()\n",
        "        if line.isdigit() or '-->' in line or line == '':\n",
        "            continue\n",
        "        subtitle_lines.append(line)\n",
        "\n",
        "# 每 4 行合成一段\n",
        "paragraphs = []\n",
        "for i in range(0, len(subtitle_lines), 4):\n",
        "    paragraph = ' '.join(subtitle_lines[i:i+4])\n",
        "    paragraphs.append(paragraph)\n",
        "\n",
        "# 最终文本\n",
        "final_text = '\\n\\n'.join(paragraphs)\n",
        "print(final_text[:1000000])  # 预览前1000000字\n"
      ],
      "metadata": {
        "id": "3xEuesu2fph5"
      },
      "execution_count": null,
      "outputs": []
    },
    {
      "cell_type": "code",
      "source": [
        "import os\n",
        "from fpdf import FPDF\n",
        "from google.colab import files\n",
        "\n",
        "# 1. 找到 subtitles 文件夹中最新的 .srt 文件\n",
        "srt_file = max(\n",
        "    [os.path.join(\"subtitles\", f) for f in os.listdir(\"subtitles\") if f.endswith(\".srt\")],\n",
        "    key=os.path.getmtime\n",
        ")\n",
        "\n",
        "# 2. 清洗字幕文本\n",
        "lines = []\n",
        "with open(srt_file, 'r', encoding='utf-8') as f:\n",
        "    for line in f:\n",
        "        line = line.strip()\n",
        "        if line == '' or line.isdigit() or '-->' in line:\n",
        "            continue\n",
        "        lines.append(line)\n",
        "\n",
        "# 3. 每 4 行合并为一段\n",
        "paragraphs = [' '.join(lines[i:i+4]) for i in range(0, len(lines), 4)]\n",
        "\n",
        "# 4. 生成 PDF\n",
        "pdf = FPDF()\n",
        "pdf.add_page()\n",
        "pdf.set_font(\"Arial\", size=12)\n",
        "for p in paragraphs:\n",
        "    pdf.multi_cell(0, 10, p)\n",
        "    pdf.ln()\n",
        "\n",
        "# 5. 保存为 youtube.pdf\n",
        "pdf.output(\"youtube.pdf\")\n",
        "\n",
        "# 6. 触发下载\n",
        "files.download(\"youtube.pdf\")\n",
        "\n"
      ],
      "metadata": {
        "id": "m-TCdKmPY2E5"
      },
      "execution_count": null,
      "outputs": []
    },
    {
      "cell_type": "code",
      "source": [],
      "metadata": {
        "id": "QRH7PjhGdnwz"
      },
      "execution_count": null,
      "outputs": []
    }
  ]
}